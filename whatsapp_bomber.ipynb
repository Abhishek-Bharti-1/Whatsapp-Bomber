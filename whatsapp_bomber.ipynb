{
 "cells": [
  {
   "cell_type": "code",
   "execution_count": null,
   "metadata": {},
   "outputs": [],
   "source": [
    "import pyautogui, time\n",
    "\n",
    "# delay to switch windows\n",
    "time.sleep(5)\n",
    "#setting count to 5\n",
    "count = 5\n",
    "# loop to spam\n",
    "while count >= 1:\n",
    "    # fetch and type each word from the file\n",
    "    pyautogui.write('Jaldi Aao....')\n",
    "    # press enter to send the message\n",
    "    pyautogui.press('enter')\n",
    "    # decrementing count\n",
    "    count = count - 1"
   ]
  }
 ],
 "metadata": {
  "language_info": {
   "name": "python"
  }
 },
 "nbformat": 4,
 "nbformat_minor": 2
}
